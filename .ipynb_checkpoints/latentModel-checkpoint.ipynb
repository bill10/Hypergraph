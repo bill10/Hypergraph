{
 "cells": [
  {
   "cell_type": "markdown",
   "metadata": {},
   "source": [
    "# A Latent Space Model for Hypergraphs"
   ]
  },
  {
   "cell_type": "markdown",
   "metadata": {},
   "source": [
    "* Let $G=(V,E)$ be a hypergraph, where $E$ is the collection of hyperedges.\n",
    "* Let $H$ be the collection of admisible sets of nodes, (e.g., if we only consider hyperedges of size less than 10). \n",
    "* $G$ is modeled as a collection of random variables ${X_e: e\\in H}$.\n",
    "* $X_e\\sim Poisson(\\lambda_e)$, which means we allow multi-hyperedges.\n",
    "* The rate $\\lambda_e$ depends on the features of nodes in $e$: $$\\lambda_e=|e|^\\alpha\\sum_k\\prod_{i\\in e}\\theta_{ik},$$ where $\\theta_i$: the latent feature vector for node $i$.\n",
    "* Assume $X_e$'s are independent of each other given $\\theta=(\\theta_i)$.\n",
    "* The distribution of $G$ is given by $$p(G|\\theta)=\\prod_{e\\in H} p(x_e|\\theta)$$.\n",
    "* Take a Bayesian approach to estimate $\\theta$ and sample $\\theta$ from the posterior using MCMC.\n",
    "    * Propose $\\theta'$.\n",
    "    * Draw $G'$ given $\\theta'$.\n",
    "        * Start from $G$.\n",
    "        * Every step pick $e\\in H$ at random.\n",
    "        * Draw $X_e$ from $Poisson(\\lambda_e(\\theta')$.\n",
    "    * Move to $\\theta'$ with probability $\\rho$."
   ]
  },
  {
   "cell_type": "code",
   "execution_count": 1,
   "metadata": {
    "collapsed": true
   },
   "outputs": [],
   "source": [
    "import numpy as np\n",
    "import scipy.sparse as ssp\n",
    "import random\n",
    "from collections import Counter\n",
    "from scipy.stats import dirichlet, truncnorm"
   ]
  },
  {
   "cell_type": "markdown",
   "metadata": {},
   "source": [
    "#### Initialization"
   ]
  },
  {
   "cell_type": "code",
   "execution_count": 2,
   "metadata": {
    "collapsed": true
   },
   "outputs": [],
   "source": [
    "E = Counter([(1,2),(2,3),(3,4,5)]) # set of hyperedges\n",
    "M = len(E) # number of edges\n",
    "V = range(6)# list of nodes\n",
    "N = len(V) # number of nodes\n",
    "K=3 # dimension of hidden space\n",
    "averageSize=2\n",
    "#theta = np.random.dirichlet([1.0/K]*K,size=N).T\n",
    "sigma=0.5\n",
    "theta = truncnorm.rvs((0-1.0/K)/sigma,(1-1.0/K)/sigma,1.0/K,sigma,size=(K,N))\n",
    "piTheta=reduce(lambda a,b: a*b, (truncnorm.pdf(theta[j,i],(0-1.0/K)/sigma,(1-1.0/K)/sigma,1.0/K,sigma) for i in xrange(N) for j in xrange(K)))\n",
    "alpha=1"
   ]
  },
  {
   "cell_type": "code",
   "execution_count": 3,
   "metadata": {
    "collapsed": true
   },
   "outputs": [],
   "source": [
    "def Lambda(e,theta,alpha):\n",
    "    return theta[:,list(e)].prod(axis=1).sum()*(len(e)**alpha)\n",
    "\n",
    "def proposeG(givenE,averageSize):\n",
    "    if random.random()<0.5: # choose an edge\n",
    "        e=random.choice(givenE.keys())\n",
    "        X=np.random.poisson(Lambda(e,theta,alpha))\n",
    "    else: # choose a nonedge\n",
    "        while True:\n",
    "            n=np.random.poisson(averageSize)\n",
    "            e=tuple(sorted(random.sample(V,min(max(n,1),N))))\n",
    "            if e not in givenE:\n",
    "                break\n",
    "        X=np.random.poisson(Lambda(e,theta,alpha))\n",
    "    return (e,X)\n",
    "    \n",
    "def sampleG(theta,alpha,E):\n",
    "    change=Counter()\n",
    "    for i in xrange(100):\n",
    "        n=np.random.poisson(averageSize)\n",
    "        e=tuple(sorted(random.sample(V,min(max(n,1),N))))\n",
    "        lambdae=Lambda(e,theta,alpha)\n",
    "        if lambdae==0:\n",
    "            X=0\n",
    "        else:\n",
    "            X=np.random.poisson(lambdae)\n",
    "        if e not in change:\n",
    "            if E[e]!=X:\n",
    "                change[e]=X\n",
    "        else:\n",
    "            if change[e]!=X:\n",
    "                change[e]=X\n",
    "    \n",
    "    return change"
   ]
  },
  {
   "cell_type": "markdown",
   "metadata": {},
   "source": [
    "#### Simulate $\\theta$"
   ]
  },
  {
   "cell_type": "code",
   "execution_count": 4,
   "metadata": {
    "collapsed": false
   },
   "outputs": [
    {
     "ename": "NameError",
     "evalue": "name 'thetaP' is not defined",
     "output_type": "error",
     "traceback": [
      "\u001b[0;31m---------------------------------------------------------------------------\u001b[0m",
      "\u001b[0;31mNameError\u001b[0m                                 Traceback (most recent call last)",
      "\u001b[0;32m<ipython-input-4-55563aab461e>\u001b[0m in \u001b[0;36m<module>\u001b[0;34m()\u001b[0m\n\u001b[1;32m      2\u001b[0m     \u001b[0;31m# Propose new theta\u001b[0m\u001b[0;34m\u001b[0m\u001b[0;34m\u001b[0m\u001b[0m\n\u001b[1;32m      3\u001b[0m     \u001b[0;31m#thetaP=np.array([ np.random.dirichlet(theta[:,i]) for i in xrange(theta.shape[1])]).T\u001b[0m\u001b[0;34m\u001b[0m\u001b[0;34m\u001b[0m\u001b[0m\n\u001b[0;32m----> 4\u001b[0;31m     \u001b[0mthetaP\u001b[0m\u001b[0;34m=\u001b[0m\u001b[0mnp\u001b[0m\u001b[0;34m.\u001b[0m\u001b[0marray\u001b[0m\u001b[0;34m(\u001b[0m\u001b[0;34m[\u001b[0m \u001b[0;34m[\u001b[0m\u001b[0mtruncnorm\u001b[0m\u001b[0;34m.\u001b[0m\u001b[0mrvs\u001b[0m\u001b[0;34m(\u001b[0m\u001b[0;34m(\u001b[0m\u001b[0;36m0\u001b[0m\u001b[0;34m-\u001b[0m\u001b[0mi\u001b[0m\u001b[0;34m)\u001b[0m\u001b[0;34m/\u001b[0m\u001b[0msigma\u001b[0m\u001b[0;34m,\u001b[0m\u001b[0;34m(\u001b[0m\u001b[0;36m1\u001b[0m\u001b[0;34m-\u001b[0m\u001b[0mi\u001b[0m\u001b[0;34m)\u001b[0m\u001b[0;34m/\u001b[0m\u001b[0msigma\u001b[0m\u001b[0;34m,\u001b[0m\u001b[0mi\u001b[0m\u001b[0;34m,\u001b[0m\u001b[0msigma\u001b[0m\u001b[0;34m)\u001b[0m \u001b[0;32mfor\u001b[0m \u001b[0mi\u001b[0m \u001b[0;32min\u001b[0m \u001b[0mk\u001b[0m\u001b[0;34m]\u001b[0m \u001b[0;32mfor\u001b[0m \u001b[0mk\u001b[0m \u001b[0;32min\u001b[0m \u001b[0mthetaP\u001b[0m\u001b[0;34m]\u001b[0m\u001b[0;34m)\u001b[0m\u001b[0;34m\u001b[0m\u001b[0m\n\u001b[0m\u001b[1;32m      5\u001b[0m     \u001b[0mpiThetaP\u001b[0m\u001b[0;34m=\u001b[0m\u001b[0mreduce\u001b[0m\u001b[0;34m(\u001b[0m\u001b[0;32mlambda\u001b[0m \u001b[0ma\u001b[0m\u001b[0;34m,\u001b[0m\u001b[0mb\u001b[0m\u001b[0;34m:\u001b[0m \u001b[0ma\u001b[0m\u001b[0;34m*\u001b[0m\u001b[0mb\u001b[0m\u001b[0;34m,\u001b[0m \u001b[0;34m(\u001b[0m\u001b[0mtruncnorm\u001b[0m\u001b[0;34m.\u001b[0m\u001b[0mpdf\u001b[0m\u001b[0;34m(\u001b[0m\u001b[0mthetaP\u001b[0m\u001b[0;34m[\u001b[0m\u001b[0mj\u001b[0m\u001b[0;34m,\u001b[0m\u001b[0mi\u001b[0m\u001b[0;34m]\u001b[0m\u001b[0;34m,\u001b[0m\u001b[0;34m(\u001b[0m\u001b[0;36m0\u001b[0m\u001b[0;34m-\u001b[0m\u001b[0;36m1.0\u001b[0m\u001b[0;34m/\u001b[0m\u001b[0mK\u001b[0m\u001b[0;34m)\u001b[0m\u001b[0;34m/\u001b[0m\u001b[0msigma\u001b[0m\u001b[0;34m,\u001b[0m\u001b[0;34m(\u001b[0m\u001b[0;36m1\u001b[0m\u001b[0;34m-\u001b[0m\u001b[0;36m1.0\u001b[0m\u001b[0;34m/\u001b[0m\u001b[0mK\u001b[0m\u001b[0;34m)\u001b[0m\u001b[0;34m/\u001b[0m\u001b[0msigma\u001b[0m\u001b[0;34m,\u001b[0m\u001b[0;36m1.0\u001b[0m\u001b[0;34m/\u001b[0m\u001b[0mK\u001b[0m\u001b[0;34m,\u001b[0m\u001b[0msigma\u001b[0m\u001b[0;34m)\u001b[0m \u001b[0;32mfor\u001b[0m \u001b[0mi\u001b[0m \u001b[0;32min\u001b[0m \u001b[0mxrange\u001b[0m\u001b[0;34m(\u001b[0m\u001b[0mN\u001b[0m\u001b[0;34m)\u001b[0m \u001b[0;32mfor\u001b[0m \u001b[0mj\u001b[0m \u001b[0;32min\u001b[0m \u001b[0mxrange\u001b[0m\u001b[0;34m(\u001b[0m\u001b[0mK\u001b[0m\u001b[0;34m)\u001b[0m\u001b[0;34m)\u001b[0m\u001b[0;34m)\u001b[0m\u001b[0;34m\u001b[0m\u001b[0m\n\u001b[1;32m      6\u001b[0m     \u001b[0;31m# Sample G' from new theta\u001b[0m\u001b[0;34m\u001b[0m\u001b[0;34m\u001b[0m\u001b[0m\n",
      "\u001b[0;31mNameError\u001b[0m: name 'thetaP' is not defined"
     ]
    }
   ],
   "source": [
    "for i in xrange(100):\n",
    "    # Propose new theta\n",
    "    #thetaP=np.array([ np.random.dirichlet(theta[:,i]) for i in xrange(theta.shape[1])]).T\n",
    "    thetaP=np.array([ [truncnorm.rvs((0-i)/sigma,(1-i)/sigma,i,sigma) for i in k] for k in theta])\n",
    "    piThetaP=reduce(lambda a,b: a*b, (truncnorm.pdf(thetaP[j,i],(0-1.0/K)/sigma,(1-1.0/K)/sigma,1.0/K,sigma) for i in xrange(N) for j in xrange(K)))\n",
    "    # Sample G' from new theta\n",
    "    EP=sampleG(theta,alpha,E)\n",
    "    # Calculate transition probability\n",
    "    rho=1.0\n",
    "    for e in EP:\n",
    "        lambdae=Lambda(e,theta,alpha)\n",
    "        lambdaep=Lambda(e,thetaP,alpha)\n",
    "        if lambdae==0 or lambdaep==0:\n",
    "            rho=0\n",
    "            break\n",
    "        rho*=(lambdae/lambdaep)**(EP[e]-E[e])\n",
    "    rho*=piThetaP/piTheta\n",
    "    # Move\n",
    "    if random.random()<rho:\n",
    "        theta=thetaP\n",
    "        piTheta=piThetaP"
   ]
  },
  {
   "cell_type": "code",
   "execution_count": null,
   "metadata": {
    "collapsed": true
   },
   "outputs": [],
   "source": []
  }
 ],
 "metadata": {
  "kernelspec": {
   "display_name": "Python 2",
   "language": "python",
   "name": "python2"
  },
  "language_info": {
   "codemirror_mode": {
    "name": "ipython",
    "version": 2
   },
   "file_extension": ".py",
   "mimetype": "text/x-python",
   "name": "python",
   "nbconvert_exporter": "python",
   "pygments_lexer": "ipython2",
   "version": "2.7.9"
  }
 },
 "nbformat": 4,
 "nbformat_minor": 0
}
