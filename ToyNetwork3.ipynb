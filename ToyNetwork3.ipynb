{
 "cells": [
  {
   "cell_type": "code",
   "execution_count": 1,
   "metadata": {
    "collapsed": true
   },
   "outputs": [],
   "source": [
    "import numpy as np\n",
    "import random  \n",
    "from collections import Counter\n",
    "import networkx as nx\n",
    "import matplotlib.pyplot as plt\n",
    "from itertools import combinations\n",
    "%matplotlib inline"
   ]
  },
  {
   "cell_type": "code",
   "execution_count": 28,
   "metadata": {
    "collapsed": false
   },
   "outputs": [
    {
     "name": "stdout",
     "output_type": "stream",
     "text": [
      "[(2, 7), (1, 3, 6, 7), (2, 6), (6, 7), (3, 4, 8), (1,), (0, 1, 9), (1, 2, 6, 7, 9), (2,), (0, 1, 2, 3, 4, 6, 7, 8, 9), (0, 5, 7), (4, 5, 6, 8), (0, 1, 4, 5, 9), (5,), (0, 3, 6, 7, 8), (1, 7), (7,), (3, 9), (0, 1, 5), (0,)]\n"
     ]
    }
   ],
   "source": [
    "N = 10\n",
    "V = range(N)\n",
    "M = 20\n",
    "E = set()\n",
    "\n",
    "\n",
    "averageSize=3\n",
    "\n",
    "for j in xrange(M): \n",
    "    n=min(max(1,np.random.poisson(averageSize)),N)\n",
    "    E.add(tuple(sorted(random.sample(V,n))))\n",
    "\n",
    "print list(E)\n"
   ]
  },
  {
   "cell_type": "code",
   "execution_count": 9,
   "metadata": {
    "collapsed": false
   },
   "outputs": [
    {
     "name": "stdout",
     "output_type": "stream",
     "text": [
      "[(2, 7), (1, 3, 6, 7), (2, 6), (6, 7), (3, 4, 8), (1,), (0, 1, 9), (1, 2, 6, 7, 9), (2,), (0, 1, 2, 3, 4, 6, 7, 8, 9), (0, 5, 7), (4, 5, 6, 8), (0, 1, 4, 5, 9), (5,), (0, 3, 6, 7, 8), (1, 7), (7,), (3, 9), (0, 1, 5), (0,)]\n"
     ]
    }
   ],
   "source": [
    "W = list(E)\n",
    "print W "
   ]
  },
  {
   "cell_type": "code",
   "execution_count": 37,
   "metadata": {
    "collapsed": false
   },
   "outputs": [
    {
     "name": "stdout",
     "output_type": "stream",
     "text": [
     ]
    }
   ],
   "source": [
    "tuples = []\n",
    "for elem in list(E):\n",
    "    tuples.append([c for c in combinations(elem, 2)])\n",
    "X = np.sum(tuples)\n",
    "\n",
    "print X\n"
   ]
  },
  {
   "cell_type": "code",
   "execution_count": 10,
   "metadata": {
    "collapsed": false
   },
   "outputs": [
    {
     "data": {
     },
     "metadata": {},
     "output_type": "display_data"
    }
   ],
   "source": [
    "G=nx.Graph()\n",
    "\n",
    "G.add_edges_from(X)\n",
    "\n",
    "nx.draw(G)"
   ]
  },
  {
   "cell_type": "code",
   "execution_count": null,
   "metadata": {
    "collapsed": false
   },
   "outputs": [],
   "source": []
  },
  {
   "cell_type": "code",
   "execution_count": null,
   "metadata": {
    "collapsed": false
   },
   "outputs": [],
   "source": []
  },
  {
   "cell_type": "code",
   "execution_count": 7,
   "metadata": {
    "collapsed": false
   },
   "outputs": [],
   "source": []
  },
  {
   "cell_type": "code",
   "execution_count": null,
   "metadata": {
    "collapsed": false
   },
   "outputs": [],
   "source": []
  },
  {
   "cell_type": "code",
   "execution_count": null,
   "metadata": {
    "collapsed": true
   },
   "outputs": [],
   "source": []
  }
 ],
 "metadata": {
  "kernelspec": {
   "display_name": "Python 2",
   "language": "python",
   "name": "python2"
  },
  "language_info": {
   "codemirror_mode": {
    "name": "ipython",
    "version": 2
   },
   "file_extension": ".py",
   "mimetype": "text/x-python",
   "name": "python",
   "nbconvert_exporter": "python",
   "pygments_lexer": "ipython2",
   "version": "2.7.9"
  }
 },
 "nbformat": 4,
 "nbformat_minor": 0
}
