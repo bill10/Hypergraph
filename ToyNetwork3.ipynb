{
 "cells": [
  {
   "cell_type": "code",
   "execution_count": 85,
   "metadata": {
    "collapsed": true
   },
   "outputs": [],
   "source": [
    "import numpy as np\n",
    "import random  \n",
    "from collections import Counter\n",
    "import networkx as nx\n",
    "import matplotlib.pyplot as plt\n",
    "from itertools import combinations\n",
    "%matplotlib inline"
   ]
  },
  {
   "cell_type": "code",
   "execution_count": 180,
   "metadata": {
    "collapsed": false
   },
   "outputs": [
    {
     "name": "stdout",
     "output_type": "stream",
     "text": [
      "[(4, 6, 7), (5, 8, 9), (0, 4, 5, 7, 8), (3, 4, 7), (1, 2, 3, 5, 8, 9), (0, 6, 7), (1, 4, 8, 9), (5, 6, 8), (0, 1, 6, 7), (5, 6, 7, 9), (2, 5, 7), (0, 1, 5), (2, 3, 6), (5,), (1, 6), (1, 2, 4, 6, 7, 8), (2, 3, 4, 5, 6, 7), (2, 4), (0, 2, 6, 9), (0, 1, 5, 7, 9)]\n"
     ]
    }
   ],
   "source": [
    "N = 10\n",
    "V = range(N)\n",
    "M = 20\n",
    "E = set()\n",
    "\n",
    "\n",
    "averageSize=3\n",
    "\n",
    "for j in xrange(M): \n",
    "    n=min(max(1,np.random.poisson(averageSize)),N)\n",
    "    E.add(tuple(sorted(random.sample(V,n))))\n",
    "\n",
    "print list(E)\n"
   ]
  },
  {
   "cell_type": "code",
   "execution_count": 331,
   "metadata": {
    "collapsed": false
   },
   "outputs": [
    {
     "name": "stdout",
     "output_type": "stream",
     "text": [
      "[(4, 6, 7), (5, 8, 9), (0, 4, 5, 7, 8), (3, 4, 7), (1, 2, 3, 5, 8, 9), (0, 6, 7), (1, 4, 8, 9), (5, 6, 8), (0, 1, 6, 7), (5, 6, 7, 9), (2, 5, 7), (0, 1, 5), (2, 3, 6), (5,), (1, 6), (1, 2, 4, 6, 7, 8), (2, 3, 4, 5, 6, 7), (2, 4), (0, 2, 6, 9), (0, 1, 5, 7, 9)]\n"
     ]
    }
   ],
   "source": [
    "W = list(E)\n",
    "print W "
   ]
  },
  {
   "cell_type": "code",
   "execution_count": 325,
   "metadata": {
    "collapsed": false
   },
   "outputs": [
    {
     "name": "stdout",
     "output_type": "stream",
     "text": [
      "[(4, 6), (6, 7), (5, 8), (8, 9), (0, 4), (4, 5), (5, 7), (7, 8), (3, 4), (4, 7), (1, 2), (2, 3), (3, 5), (5, 8), (8, 9), (0, 6), (6, 7), (1, 4), (4, 8), (8, 9), (5, 6), (6, 8), (0, 1), (1, 6), (6, 7), (5, 6), (6, 7), (7, 9), (2, 5), (5, 7), (0, 1), (1, 5), (2, 3), (3, 6), (1, 6), (1, 2), (2, 4), (4, 6), (6, 7), (7, 8), (2, 3), (3, 4), (4, 5), (5, 6), (6, 7), (2, 4), (0, 2), (2, 6), (6, 9), (0, 1), (1, 5), (5, 7), (7, 9)]\n"
     ]
    }
   ],
   "source": [
    "X = [(W[i], W[i+1]) for W in (E) for i in range(len(W)-1)] \n",
    "print X\n"
   ]
  },
  {
   "cell_type": "code",
   "execution_count": 341,
   "metadata": {
    "collapsed": false
   },
   "outputs": [
    {
     "data": {
      "text/plain": [
       "[(0, 2), (0, 6), (0, 9), (2, 6), (2, 9), (6, 9)]"
      ]
     },
     "execution_count": 341,
     "metadata": {},
     "output_type": "execute_result"
    }
   ],
   "source": [
    "#Maybe turn this into a function? \n",
    "[c for c in combinations(W[i], 2)]"
   ]
  },
  {
   "cell_type": "code",
   "execution_count": 285,
   "metadata": {
    "collapsed": false
   },
   "outputs": [
    {
     "data": {
      "image/png": "[encoded data removed]",
      "text/plain": [
       "<matplotlib.figure.Figure at 0x107781050>"
      ]
     },
     "metadata": {},
     "output_type": "display_data"
    }
   ],
   "source": [
    "G=nx.Graph()\n",
    "\n",
    "G.add_edges_from(I)\n",
    "\n",
    "nx.draw(G)"
   ]
  },
  {
   "cell_type": "code",
   "execution_count": null,
   "metadata": {
    "collapsed": false
   },
   "outputs": [],
   "source": []
  },
  {
   "cell_type": "code",
   "execution_count": null,
   "metadata": {
    "collapsed": true
   },
   "outputs": [],
   "source": []
  },
  {
   "cell_type": "code",
   "execution_count": null,
   "metadata": {
    "collapsed": true
   },
   "outputs": [],
   "source": []
  }
 ],
 "metadata": {
  "kernelspec": {
   "display_name": "Python 2",
   "language": "python",
   "name": "python2"
  },
  "language_info": {
   "codemirror_mode": {
    "name": "ipython",
    "version": 2
   },
   "file_extension": ".py",
   "mimetype": "text/x-python",
   "name": "python",
   "nbconvert_exporter": "python",
   "pygments_lexer": "ipython2",
   "version": "2.7.10"
  }
 },
 "nbformat": 4,
 "nbformat_minor": 0
}
