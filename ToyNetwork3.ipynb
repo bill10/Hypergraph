{
 "cells": [
  {
   "cell_type": "code",
   "execution_count": 23,
   "metadata": {
    "collapsed": true
   },
   "outputs": [],
   "source": [
    "import numpy as np\n",
    "import random  \n",
    "from collections import Counter\n",
    "import networkx as nx\n",
    "import matplotlib.pyplot as plt\n",
    "%matplotlib inline"
   ]
  },
  {
   "cell_type": "code",
   "execution_count": 64,
   "metadata": {
    "collapsed": false
   },
   "outputs": [
    {
     "data": {
      "text/plain": [
       "{(0, 1),\n",
       " (0, 1, 4, 5, 6, 9),\n",
       " (0, 1, 5, 6, 8, 9),\n",
       " (0, 1, 5, 7),\n",
       " (0, 2, 4),\n",
       " (0, 2, 5, 6),\n",
       " (0, 2, 6, 8, 9),\n",
       " (0, 4, 6, 8),\n",
       " (0, 9),\n",
       " (1, 2, 5, 8),\n",
       " (1, 2, 8),\n",
       " (1, 3, 4, 6, 7, 9),\n",
       " (1, 3, 8, 9),\n",
       " (2,),\n",
       " (2, 4, 5, 7, 9),\n",
       " (3, 4, 5, 6, 8),\n",
       " (4, 8),\n",
       " (5,),\n",
       " (5, 6)}"
      ]
     },
     "execution_count": 64,
     "metadata": {},
     "output_type": "execute_result"
    }
   ],
   "source": [
    "N = 10\n",
    "V = range(N)\n",
    "M = 20\n",
    "E = set()\n",
    "\n",
    "averageSize=3\n",
    "\n",
    "for j in xrange(M): \n",
    "    n=min(max(1,np.random.poisson(averageSize)),N)\n",
    "    E.add(tuple(sorted(random.sample(V,n))))\n",
    "    \n",
    "E\n",
    "\n"
   ]
  },
  {
   "cell_type": "code",
   "execution_count": 56,
   "metadata": {
    "collapsed": false
   },
   "outputs": [
    {
     "ename": "NetworkXError",
     "evalue": "Edge tuple (4, 5, 6, 7, 9) must be a 2-tuple or 3-tuple.",
     "output_type": "error",
     "traceback": [
      "\u001b[0;31m---------------------------------------------------------------------------\u001b[0m",
      "\u001b[0;31mNetworkXError\u001b[0m                             Traceback (most recent call last)",
      "\u001b[0;32m<ipython-input-56-d03d9f8460f6>\u001b[0m in \u001b[0;36m<module>\u001b[0;34m()\u001b[0m\n\u001b[1;32m      1\u001b[0m \u001b[0mG\u001b[0m\u001b[0;34m=\u001b[0m\u001b[0mnx\u001b[0m\u001b[0;34m.\u001b[0m\u001b[0mGraph\u001b[0m\u001b[0;34m(\u001b[0m\u001b[0;34m)\u001b[0m\u001b[0;34m\u001b[0m\u001b[0m\n\u001b[1;32m      2\u001b[0m \u001b[0;34m\u001b[0m\u001b[0m\n\u001b[0;32m----> 3\u001b[0;31m \u001b[0mG\u001b[0m\u001b[0;34m.\u001b[0m\u001b[0madd_edges_from\u001b[0m\u001b[0;34m(\u001b[0m\u001b[0mE\u001b[0m\u001b[0;34m)\u001b[0m\u001b[0;34m\u001b[0m\u001b[0m\n\u001b[0m\u001b[1;32m      4\u001b[0m \u001b[0;34m\u001b[0m\u001b[0m\n\u001b[1;32m      5\u001b[0m \u001b[0;34m\u001b[0m\u001b[0m\n",
      "\u001b[0;32m/Users/danyalagos/anaconda/lib/python2.7/site-packages/networkx/classes/graph.pyc\u001b[0m in \u001b[0;36madd_edges_from\u001b[0;34m(self, ebunch, attr_dict, **attr)\u001b[0m\n\u001b[1;32m    779\u001b[0m             \u001b[0;32melse\u001b[0m\u001b[0;34m:\u001b[0m\u001b[0;34m\u001b[0m\u001b[0m\n\u001b[1;32m    780\u001b[0m                 raise NetworkXError(\\\n\u001b[0;32m--> 781\u001b[0;31m                     \"Edge tuple %s must be a 2-tuple or 3-tuple.\"%(e,))\n\u001b[0m\u001b[1;32m    782\u001b[0m             \u001b[0;32mif\u001b[0m \u001b[0mu\u001b[0m \u001b[0;32mnot\u001b[0m \u001b[0;32min\u001b[0m \u001b[0mself\u001b[0m\u001b[0;34m.\u001b[0m\u001b[0mnode\u001b[0m\u001b[0;34m:\u001b[0m\u001b[0;34m\u001b[0m\u001b[0m\n\u001b[1;32m    783\u001b[0m                 \u001b[0mself\u001b[0m\u001b[0;34m.\u001b[0m\u001b[0madj\u001b[0m\u001b[0;34m[\u001b[0m\u001b[0mu\u001b[0m\u001b[0;34m]\u001b[0m \u001b[0;34m=\u001b[0m \u001b[0;34m{\u001b[0m\u001b[0;34m}\u001b[0m\u001b[0;34m\u001b[0m\u001b[0m\n",
      "\u001b[0;31mNetworkXError\u001b[0m: Edge tuple (4, 5, 6, 7, 9) must be a 2-tuple or 3-tuple."
     ]
    }
   ],
   "source": [
    "G=nx.Graph()\n",
    "\n",
    "G.add_edges_from(W)\n",
    "\n",
    "\n",
    "\n",
    "nx.draw(G)"
   ]
  },
  {
   "cell_type": "code",
   "execution_count": null,
   "metadata": {
    "collapsed": true
   },
   "outputs": [],
   "source": []
  }
 ],
 "metadata": {
  "kernelspec": {
   "display_name": "Python 2",
   "language": "python",
   "name": "python2"
  },
  "language_info": {
   "codemirror_mode": {
    "name": "ipython",
    "version": 2
   },
   "file_extension": ".py",
   "mimetype": "text/x-python",
   "name": "python",
   "nbconvert_exporter": "python",
   "pygments_lexer": "ipython2",
   "version": "2.7.10"
  }
 },
 "nbformat": 4,
 "nbformat_minor": 0
}
