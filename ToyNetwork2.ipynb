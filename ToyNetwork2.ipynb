{
 "cells": [
  {
   "cell_type": "code",
   "execution_count": 77,
   "metadata": {
    "collapsed": true
   },
   "outputs": [],
   "source": [
    "import numpy as np\n",
    "import random  "
   ]
  },
  {
   "cell_type": "code",
   "execution_count": 105,
   "metadata": {
    "collapsed": false
   },
   "outputs": [
    {
     "name": "stdout",
     "output_type": "stream",
     "text": [
      "Random List of Edges generated: \n",
      "[(9, 5, 8, 1), (7, 8, 1), (9, 5, 0), (3, 7), (8, 5, 5, 5), (8, 6, 0), (6, 6, 7, 5, 9, 7, 1), (9, 4, 2), (9, 0, 1), (5, 8, 2, 6, 2)]\n",
      "Random Node generated:\n",
      "9\n",
      "Edges that include the random node:\n",
      "[(9, 5, 8, 1), (9, 5, 0), (6, 6, 7, 5, 9, 7, 1), (9, 4, 2), (9, 0, 1)]\n"
     ]
    }
   ],
   "source": [
    "V = [0, 1, 2, 3, 4, 5, 6, 7, 8, 9]\n",
    "\n",
    "randomnode = random.choice(V)\n",
    "\n",
    "RandomNetwork = []\n",
    "\n",
    "for j in range (10):\n",
    "    current = []\n",
    "    for k in range(random.randint(2,9)):\n",
    "        current.append(random.randint(0,9))\n",
    "        \n",
    "    RandomNetwork.append(tuple(current))\n",
    "\n",
    "\n",
    "print \"Random List of Edges generated: \"\n",
    "print RandomNetwork\n",
    "print \"Random Node generated:\"\n",
    "print randomnode\n",
    "print \"Edges that include the random node:\"\n",
    "print [item for item in RandomNetwork if randomnode in item]\n",
    "\n"
   ]
  },
  {
   "cell_type": "code",
   "execution_count": null,
   "metadata": {
    "collapsed": false
   },
   "outputs": [],
   "source": []
  },
  {
   "cell_type": "code",
   "execution_count": null,
   "metadata": {
    "collapsed": true
   },
   "outputs": [],
   "source": []
  },
  {
   "cell_type": "code",
   "execution_count": null,
   "metadata": {
    "collapsed": true
   },
   "outputs": [],
   "source": []
  }
 ],
 "metadata": {
  "kernelspec": {
   "display_name": "Python 2",
   "language": "python",
   "name": "python2"
  },
  "language_info": {
   "codemirror_mode": {
    "name": "ipython",
    "version": 2
   },
   "file_extension": ".py",
   "mimetype": "text/x-python",
   "name": "python",
   "nbconvert_exporter": "python",
   "pygments_lexer": "ipython2",
   "version": "2.7.10"
  }
 },
 "nbformat": 4,
 "nbformat_minor": 0
}
