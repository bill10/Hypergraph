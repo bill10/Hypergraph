{
 "cells": [
  {
   "cell_type": "code",
   "execution_count": 42,
   "metadata": {
    "collapsed": true
   },
   "outputs": [],
   "source": [
    "import networkx as nx\n",
    "from matplotlib import pyplot as plt\n",
    "import random\n",
    "%matplotlib inline  "
   ]
  },
  {
   "cell_type": "code",
   "execution_count": 70,
   "metadata": {
    "collapsed": false
   },
   "outputs": [],
   "source": [
    "V = [0, 1, 2, 3, 4, 5, 6, 7, 8, 9]\n",
    "\n"
   ]
  },
  {
   "cell_type": "code",
   "execution_count": 88,
   "metadata": {
    "collapsed": false
   },
   "outputs": [
    {
     "name": "stdout",
     "output_type": "stream",
     "text": [
      "List of Edges: \n",
      "[(9, 5), (0, 9), (4, 2), (2, 0), (3, 9), (6, 2), (4, 6), (5, 2), (9, 8), (2, 1)]\n",
      "Random node:\n",
      "9\n",
      "Edges of random node:\n",
      "[(9, 5), (0, 9), (3, 9), (9, 8)]\n"
     ]
    }
   ],
   "source": [
    "randomnode = random.choice(V)\n",
    "\n",
    "\n",
    "RandomE = [ ( random.randint(0, 9), random.randint(0, 9) ) for k in range(10) ]\n",
    "\n",
    "\n",
    "print \"List of Edges: \"\n",
    "print RandomE\n",
    "print \"Random node:\"\n",
    "print randomnode\n",
    "print \"Edges of random node:\"\n",
    "print [item for item in RandomE if randomnode in item]"
   ]
  },
  {
   "cell_type": "code",
   "execution_count": null,
   "metadata": {
    "collapsed": true
   },
   "outputs": [],
   "source": []
  },
  {
   "cell_type": "code",
   "execution_count": null,
   "metadata": {
    "collapsed": true
   },
   "outputs": [],
   "source": []
  }
 ],
 "metadata": {
  "kernelspec": {
   "display_name": "Python 2",
   "language": "python",
   "name": "python2"
  },
  "language_info": {
   "codemirror_mode": {
    "name": "ipython",
    "version": 2
   },
   "file_extension": ".py",
   "mimetype": "text/x-python",
   "name": "python",
   "nbconvert_exporter": "python",
   "pygments_lexer": "ipython2",
   "version": "2.7.10"
  }
 },
 "nbformat": 4,
 "nbformat_minor": 0
}
