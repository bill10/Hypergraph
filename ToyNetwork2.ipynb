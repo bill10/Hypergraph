{
 "cells": [
  {
   "cell_type": "code",
   "execution_count": 121,
   "metadata": {
    "collapsed": true
   },
   "outputs": [],
   "source": [
    "import numpy as np\n",
    "import random  \n",
    "from collections import Counter"
   ]
  },
  {
   "cell_type": "code",
   "execution_count": 167,
   "metadata": {
    "collapsed": false
   },
   "outputs": [
    {
     "name": "stdout",
     "output_type": "stream",
     "text": [
      "Random List of Edges generated: \n",
      "[(0, 9, 3, 4), (0, 6), (0, 9, 8, 7), (4, 5), (9, 4, 5), (2, 4, 5, 6, 8, 9), (4, 5), (0, 3, 4), (1, 2, 4, 6, 7, 9), (0, 9, 3, 5, 6)]\n",
      "Random Node selected:\n",
      "1\n",
      "Edges that include the random node:\n",
      "[(1, 2, 4, 6, 7, 9)]\n"
     ]
    }
   ],
   "source": [
    "V = [0, 1, 2, 3, 4, 5, 6, 7, 8, 9]\n",
    "\n",
    "randomnode = random.choice(V)\n",
    "\n",
    "RandomNetwork = []\n",
    "\n",
    "for j in range (10): #Total of 10 edges\n",
    "    current = []\n",
    "    filter = set()\n",
    "    for k in range(random.randint(2,9)): #Determines Edge sizes at random \n",
    "        current.append(random.randint(0,9)) #Selects nodes to be put in Edges\n",
    "        filter.add(random.randint(0,9))\n",
    "        \n",
    "    RandomNetwork.append(tuple(filter))\n",
    "    \n",
    "#NEW PROBLEM: NEED TO PREVENT NUMBER FROM BEING REPEATED IN EACH TUPLE.\n",
    "\n",
    "print \"Random List of Edges generated: \"\n",
    "print RandomNetwork\n",
    "print \"Random Node selected:\"\n",
    "print randomnode\n",
    "print \"Edges that include the random node:\"\n",
    "print [item for item in RandomNetwork if randomnode in item]\n",
    "\n"
   ]
  },
  {
   "cell_type": "code",
   "execution_count": null,
   "metadata": {
    "collapsed": false
   },
   "outputs": [],
   "source": []
  },
  {
   "cell_type": "code",
   "execution_count": null,
   "metadata": {
    "collapsed": true
   },
   "outputs": [],
   "source": []
  },
  {
   "cell_type": "code",
   "execution_count": null,
   "metadata": {
    "collapsed": true
   },
   "outputs": [],
   "source": []
  }
 ],
 "metadata": {
  "kernelspec": {
   "display_name": "Python 2",
   "language": "python",
   "name": "python2"
  },
  "language_info": {
   "codemirror_mode": {
    "name": "ipython",
    "version": 2
   },
   "file_extension": ".py",
   "mimetype": "text/x-python",
   "name": "python",
   "nbconvert_exporter": "python",
   "pygments_lexer": "ipython2",
   "version": "2.7.10"
  }
 },
 "nbformat": 4,
 "nbformat_minor": 0
}
