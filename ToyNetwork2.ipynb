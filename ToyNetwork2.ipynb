{
 "cells": [
  {
   "cell_type": "code",
   "execution_count": 77,
   "metadata": {
    "collapsed": true
   },
   "outputs": [],
   "source": [
    "import numpy as np\n",
    "import random  "
   ]
  },
  {
   "cell_type": "code",
   "execution_count": 99,
   "metadata": {
    "collapsed": false
   },
   "outputs": [
    {
     "name": "stdout",
     "output_type": "stream",
     "text": [
      "List of Edges: \n",
      "[(6, 0, 0, 3), (8, 1, 2, 6), (9, 3, 4, 7), (0, 5, 8), (0, 6, 2, 8, 1), (3, 1, 2), (6, 3, 9, 4, 5), (3, 0, 2, 7, 5, 1, 9, 0), (6, 8, 3, 1), (8, 2, 8, 3, 8, 2, 1, 3)]\n",
      "Random node:\n",
      "2\n",
      "Edges of random node:\n",
      "[(4, 9, 2), (4, 2, 5), (2, 1, 4)]\n"
     ]
    }
   ],
   "source": [
    "V = [0, 1, 2, 3, 4, 5, 6, 7, 8, 9]\n",
    "\n",
    "randomnode = random.choice(V)\n",
    "\n",
    "RandomNetwork = []\n",
    "\n",
    "for j in range (10):\n",
    "    current = []\n",
    "    for k in range(random.randint(2,9)):\n",
    "        current.append(random.randint(0,9))\n",
    "        \n",
    "    RandomNetwork.append(tuple(current))\n",
    "\n",
    "\n",
    "print \"List of Edges: \"\n",
    "print RandomNetwork\n",
    "print \"Random node:\"\n",
    "print randomnode\n",
    "print \"Edges of random node:\"\n",
    "print [item for item in RandomE if randomnode in item]\n",
    "\n"
   ]
  },
  {
   "cell_type": "code",
   "execution_count": null,
   "metadata": {
    "collapsed": false
   },
   "outputs": [],
   "source": []
  },
  {
   "cell_type": "code",
   "execution_count": null,
   "metadata": {
    "collapsed": true
   },
   "outputs": [],
   "source": []
  },
  {
   "cell_type": "code",
   "execution_count": null,
   "metadata": {
    "collapsed": true
   },
   "outputs": [],
   "source": []
  }
 ],
 "metadata": {
  "kernelspec": {
   "display_name": "Python 2",
   "language": "python",
   "name": "python2"
  },
  "language_info": {
   "codemirror_mode": {
    "name": "ipython",
    "version": 2
   },
   "file_extension": ".py",
   "mimetype": "text/x-python",
   "name": "python",
   "nbconvert_exporter": "python",
   "pygments_lexer": "ipython2",
   "version": "2.7.10"
  }
 },
 "nbformat": 4,
 "nbformat_minor": 0
}
