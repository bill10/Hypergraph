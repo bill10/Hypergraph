{
 "cells": [
  {
   "cell_type": "code",
   "execution_count": 121,
   "metadata": {
    "collapsed": true
   },
   "outputs": [],
   "source": [
    "import numpy as np\n",
    "import random  \n",
    "from collections import Counter"
   ]
  },
  {
   "cell_type": "code",
   "execution_count": 199,
   "metadata": {
    "collapsed": false
   },
   "outputs": [
    {
     "name": "stdout",
     "output_type": "stream",
     "text": [
      "Random HyperGraph: \n",
      "[(6, 7), (0, 1, 3, 5, 6), (0, 2, 4, 6, 7, 9), (8, 2, 4, 7), (9, 2, 4, 7), (0, 1, 4, 5), (8, 9, 3, 4, 7), (2, 3, 4, 5, 6, 7, 9), (0, 9, 2, 4, 8)]\n",
      "Random Node selected:\n",
      "6\n",
      "Edges that include the random node:\n",
      "[(0, 1, 2, 5, 6), (0, 1, 2, 6, 8, 9), (8, 3, 6), (9, 7, 4, 6, 1), (0, 2, 3, 4, 6, 8, 9), (8, 6, 7), (1, 2, 6, 7)]\n"
     ]
    }
   ],
   "source": [
    "V = [0, 1, 2, 3, 4, 5, 6, 7, 8, 9]\n",
    "\n",
    "randomnode = random.choice(V)\n",
    "\n",
    "RandomHyperGraph = []\n",
    "\n",
    "for j in range ((random.randint(1,10))): #Total of 10 edges\n",
    "    current = []\n",
    "    filter = set()\n",
    "    for k in range(random.randint(2,9)): #Determines Edge sizes at random \n",
    "        current.append(random.randint(0,9)) #Selects nodes to be put in Edges\n",
    "        filter.add(random.randint(0,9))\n",
    "        \n",
    "    RandomHyperGraph.append(tuple(filter))\n",
    "    \n",
    "#NEW PROBLEM: NEED TO PREVENT NUMBER FROM BEING REPEATED IN EACH TUPLE.\n",
    "\n",
    "print \"Random HyperGraph: \"\n",
    "print RandomHyperGraph\n",
    "print \"Random Node selected:\"\n",
    "print randomnode\n",
    "print \"Edges that include the random node:\"\n",
    "print [item for item in RandomNetwork if randomnode in item]\n",
    "\n"
   ]
  },
  {
   "cell_type": "code",
   "execution_count": null,
   "metadata": {
    "collapsed": false
   },
   "outputs": [],
   "source": []
  },
  {
   "cell_type": "code",
   "execution_count": null,
   "metadata": {
    "collapsed": true
   },
   "outputs": [],
   "source": []
  },
  {
   "cell_type": "code",
   "execution_count": null,
   "metadata": {
    "collapsed": true
   },
   "outputs": [],
   "source": []
  }
 ],
 "metadata": {
  "kernelspec": {
   "display_name": "Python 2",
   "language": "python",
   "name": "python2"
  },
  "language_info": {
   "codemirror_mode": {
    "name": "ipython",
    "version": 2
   },
   "file_extension": ".py",
   "mimetype": "text/x-python",
   "name": "python",
   "nbconvert_exporter": "python",
   "pygments_lexer": "ipython2",
   "version": "2.7.10"
  }
 },
 "nbformat": 4,
 "nbformat_minor": 0
}
