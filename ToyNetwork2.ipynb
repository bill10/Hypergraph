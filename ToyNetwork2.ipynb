{
 "cells": [
  {
   "cell_type": "code",
   "execution_count": 77,
   "metadata": {
    "collapsed": true
   },
   "outputs": [],
   "source": [
    "import numpy as np\n",
    "import random  "
   ]
  },
  {
   "cell_type": "code",
   "execution_count": 117,
   "metadata": {
    "collapsed": false
   },
   "outputs": [
    {
     "name": "stdout",
     "output_type": "stream",
     "text": [
      "Random List of Edges generated: \n",
      "[(4, 8, 3, 5, 3, 9, 5, 5, 4), (4, 7, 0, 7, 8, 5, 9, 0), (4, 1, 2), (4, 8, 4, 7, 5), (8, 2, 4, 5), (1, 2, 1, 4, 6, 6, 1, 5, 4), (2, 4, 7, 3, 7), (4, 0, 0, 5), (6, 6, 6), (2, 9, 1, 1, 9, 8, 5, 2, 8)]\n",
      "Random Node selected:\n",
      "6\n",
      "Edges that include the random node:\n",
      "[(1, 2, 1, 4, 6, 6, 1, 5, 4), (6, 6, 6)]\n"
     ]
    }
   ],
   "source": [
    "V = [0, 1, 2, 3, 4, 5, 6, 7, 8, 9]\n",
    "\n",
    "randomnode = random.choice(V)\n",
    "\n",
    "RandomNetwork = []\n",
    "\n",
    "for j in range (10):\n",
    "    current = []\n",
    "    for k in range(random.randint(2,9)):\n",
    "        current.append(random.randint(0,9))\n",
    "        \n",
    "    RandomNetwork.append(tuple(current))\n",
    "\n",
    "\n",
    "print \"Random List of Edges generated: \"\n",
    "print RandomNetwork\n",
    "print \"Random Node selected:\"\n",
    "print randomnode\n",
    "print \"Edges that include the random node:\"\n",
    "print [item for item in RandomNetwork if randomnode in item]\n",
    "\n"
   ]
  },
  {
   "cell_type": "code",
   "execution_count": null,
   "metadata": {
    "collapsed": false
   },
   "outputs": [],
   "source": []
  },
  {
   "cell_type": "code",
   "execution_count": null,
   "metadata": {
    "collapsed": true
   },
   "outputs": [],
   "source": []
  },
  {
   "cell_type": "code",
   "execution_count": null,
   "metadata": {
    "collapsed": true
   },
   "outputs": [],
   "source": []
  }
 ],
 "metadata": {
  "kernelspec": {
   "display_name": "Python 2",
   "language": "python",
   "name": "python2"
  },
  "language_info": {
   "codemirror_mode": {
    "name": "ipython",
    "version": 2
   },
   "file_extension": ".py",
   "mimetype": "text/x-python",
   "name": "python",
   "nbconvert_exporter": "python",
   "pygments_lexer": "ipython2",
   "version": "2.7.10"
  }
 },
 "nbformat": 4,
 "nbformat_minor": 0
}
