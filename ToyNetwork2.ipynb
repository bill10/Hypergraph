{
 "cells": [
  {
   "cell_type": "code",
   "execution_count": 121,
   "metadata": {
    "collapsed": true
   },
   "outputs": [],
   "source": [
    "import numpy as np\n",
    "import random  \n",
    "from collections import Counter"
   ]
  },
  {
   "cell_type": "code",
   "execution_count": 210,
   "metadata": {
    "collapsed": false
   },
   "outputs": [
    {
     "name": "stdout",
     "output_type": "stream",
     "text": [
      "Random HyperGraph: \n",
      "[(1, 2), (1, 2, 3, 5, 8, 9), (8, 2, 5, 6, 7), (0, 1, 2, 3, 4, 5, 7), (0, 4)]\n",
      "Random Node selected:\n",
      "1\n",
      "Edges that include the random node:\n",
      "[(1, 2), (1, 2, 3, 5, 8, 9), (0, 1, 2, 3, 4, 5, 7)]\n"
     ]
    }
   ],
   "source": [
    "V = [0, 1, 2, 3, 4, 5, 6, 7, 8, 9]\n",
    "\n",
    "randomnode = random.choice(V)\n",
    "\n",
    "RandomHyperGraph = []\n",
    "\n",
    "for j in range ((random.randint(1,10))): #Total of 10 edges\n",
    "    current = []\n",
    "    filter = set()\n",
    "    for k in range(random.randint(2,9)): #Determines Edge sizes at random \n",
    "        current.append(random.randint(0,9)) #Selects nodes to be put in Edges\n",
    "        filter.add(random.randint(0,9))\n",
    "        \n",
    "    RandomHyperGraph.append(tuple(filter))\n",
    "\n",
    "print \"Random HyperGraph: \"\n",
    "print RandomHyperGraph\n",
    "print \"Random Node selected:\"\n",
    "print randomnode\n",
    "print \"Edges that include the random node:\"\n",
    "print [item for item in RandomHyperGraph if randomnode in item]\n",
    "\n"
   ]
  },
  {
   "cell_type": "code",
   "execution_count": null,
   "metadata": {
    "collapsed": false
   },
   "outputs": [],
   "source": []
  },
  {
   "cell_type": "code",
   "execution_count": null,
   "metadata": {
    "collapsed": true
   },
   "outputs": [],
   "source": []
  },
  {
   "cell_type": "code",
   "execution_count": null,
   "metadata": {
    "collapsed": true
   },
   "outputs": [],
   "source": []
  }
 ],
 "metadata": {
  "kernelspec": {
   "display_name": "Python 2",
   "language": "python",
   "name": "python2"
  },
  "language_info": {
   "codemirror_mode": {
    "name": "ipython",
    "version": 2
   },
   "file_extension": ".py",
   "mimetype": "text/x-python",
   "name": "python",
   "nbconvert_exporter": "python",
   "pygments_lexer": "ipython2",
   "version": "2.7.10"
  }
 },
 "nbformat": 4,
 "nbformat_minor": 0
}
