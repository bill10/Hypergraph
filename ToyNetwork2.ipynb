{
 "cells": [
  {
   "cell_type": "code",
   "execution_count": 26,
   "metadata": {
    "collapsed": true
   },
   "outputs": [],
   "source": [
    "import networkx as nx\n",
    "import numpy as np\n",
    "from matplotlib import pyplot as plt\n",
    "import random\n",
    "%matplotlib inline  "
   ]
  },
  {
   "cell_type": "code",
   "execution_count": 3,
   "metadata": {
    "collapsed": false
   },
   "outputs": [],
   "source": [
    "V = [0, 1, 2, 3, 4, 5, 6, 7, 8, 9]\n",
    "\n"
   ]
  },
  {
   "cell_type": "code",
   "execution_count": 37,
   "metadata": {
    "collapsed": false
   },
   "outputs": [
    {
     "name": "stdout",
     "output_type": "stream",
     "text": [
      "List of Edges: \n",
      "[(4, 7), (2, 9), (2, 6), (9, 5), (1, 7), (2, 7), (8, 6), (0, 9), (8, 3), (2, 3)]\n",
      "Random node:\n",
      "2\n",
      "Edges of random node:\n",
      "[(2, 9), (2, 6), (2, 7), (2, 3)]\n"
     ]
    }
   ],
   "source": [
    "randomnode = random.choice(V)\n",
    "\n",
    "\n",
    "RandomE = [ ( random.randint(0, 9), random.randint(0, 9) ) for k in range(10) ]\n",
    "\n",
    "\n",
    "print \"List of Edges: \"\n",
    "print RandomE\n",
    "print \"Random node:\"\n",
    "print randomnode\n",
    "print \"Edges of random node:\"\n",
    "print [item for item in RandomE if randomnode in item]\n",
    "\n"
   ]
  },
  {
   "cell_type": "code",
   "execution_count": null,
   "metadata": {
    "collapsed": true
   },
   "outputs": [],
   "source": []
  },
  {
   "cell_type": "code",
   "execution_count": null,
   "metadata": {
    "collapsed": true
   },
   "outputs": [],
   "source": []
  }
 ],
 "metadata": {
  "kernelspec": {
   "display_name": "Python 2",
   "language": "python",
   "name": "python2"
  },
  "language_info": {
   "codemirror_mode": {
    "name": "ipython",
    "version": 2
   },
   "file_extension": ".py",
   "mimetype": "text/x-python",
   "name": "python",
   "nbconvert_exporter": "python",
   "pygments_lexer": "ipython2",
   "version": "2.7.10"
  }
 },
 "nbformat": 4,
 "nbformat_minor": 0
}
