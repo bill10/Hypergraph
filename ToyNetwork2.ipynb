{
 "cells": [
  {
   "cell_type": "code",
   "execution_count": 77,
   "metadata": {
    "collapsed": true
   },
   "outputs": [],
   "source": [
    "import numpy as np\n",
    "import random  "
   ]
  },
  {
   "cell_type": "code",
   "execution_count": 85,
   "metadata": {
    "collapsed": false
   },
   "outputs": [
    {
     "name": "stdout",
     "output_type": "stream",
     "text": [
      "List of Edges: \n",
      "[(1,), (2, 8), (7, 2, 2, 5, 4), (1, 3, 7, 4, 5, 7, 3, 5), (2, 4), (5, 9, 8, 8, 4, 1, 3, 2, 2), (7, 4, 5, 6, 4), (8,), (3, 6, 3, 5, 0), (8, 2, 7, 4, 5, 9, 2)]\n",
      "Random node:\n",
      "9\n",
      "Edges of random node:\n",
      "[(4, 9, 2), (0, 9, 1), (8, 0, 9)]\n"
     ]
    }
   ],
   "source": [
    "V = [0, 1, 2, 3, 4, 5, 6, 7, 8, 9]\n",
    "\n",
    "randomnode = random.choice(V)\n",
    "\n",
    "\n",
    "RandomNetwork = []\n",
    "\n",
    "for j in range (10):\n",
    "    current = []\n",
    "    for k in range(random.randint(1,9)):\n",
    "        current.append(random.randint(0,9))\n",
    "        \n",
    "    RandomNetwork.append(tuple(current))\n",
    "\n",
    "\n",
    "print \"List of Edges: \"\n",
    "print RandomNetwork\n",
    "print \"Random node:\"\n",
    "print randomnode\n",
    "print \"Edges of random node:\"\n",
    "print [item for item in RandomE if randomnode in item]\n",
    "\n"
   ]
  },
  {
   "cell_type": "code",
   "execution_count": null,
   "metadata": {
    "collapsed": false
   },
   "outputs": [],
   "source": []
  },
  {
   "cell_type": "code",
   "execution_count": null,
   "metadata": {
    "collapsed": true
   },
   "outputs": [],
   "source": []
  },
  {
   "cell_type": "code",
   "execution_count": null,
   "metadata": {
    "collapsed": true
   },
   "outputs": [],
   "source": []
  }
 ],
 "metadata": {
  "kernelspec": {
   "display_name": "Python 2",
   "language": "python",
   "name": "python2"
  },
  "language_info": {
   "codemirror_mode": {
    "name": "ipython",
    "version": 2
   },
   "file_extension": ".py",
   "mimetype": "text/x-python",
   "name": "python",
   "nbconvert_exporter": "python",
   "pygments_lexer": "ipython2",
   "version": "2.7.10"
  }
 },
 "nbformat": 4,
 "nbformat_minor": 0
}
