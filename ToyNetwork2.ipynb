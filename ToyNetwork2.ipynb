{
 "cells": [
  {
   "cell_type": "code",
   "execution_count": 1,
   "metadata": {
    "collapsed": true
   },
   "outputs": [],
   "source": [
    "import numpy as np\n",
    "import random  \n",
    "from collections import Counter"
   ]
  },
  {
   "cell_type": "code",
   "execution_count": 7,
   "metadata": {
    "collapsed": false
   },
   "outputs": [],
   "source": [
    "N = 10\n",
    "V = range(N)\n",
    "M = 20\n",
    "E = set()\n",
    "averageSize=3\n",
    "\n",
    "for j in xrange(M): \n",
    "    n=min(max(1,np.random.poisson(averageSize)),N)\n",
    "    E.add(tuple(sorted(random.sample(V,n))))"
   ]
  },
  {
   "cell_type": "code",
   "execution_count": 8,
   "metadata": {
    "collapsed": false
   },
   "outputs": [
    {
     "data": {
      "text/plain": [
       "{(0,),\n",
       " (0, 1, 3, 5, 9),\n",
       " (0, 2, 4, 8, 9),\n",
       " (0, 5, 6),\n",
       " (0, 6, 9),\n",
       " (1, 3, 5, 6, 9),\n",
       " (1, 6, 8),\n",
       " (1, 8),\n",
       " (2, 3, 6),\n",
       " (2, 3, 7, 9),\n",
       " (2, 3, 8),\n",
       " (3,),\n",
       " (4,),\n",
       " (5,),\n",
       " (6,),\n",
       " (6, 8, 9),\n",
       " (9,)}"
      ]
     },
     "execution_count": 8,
     "metadata": {},
     "output_type": "execute_result"
    }
   ],
   "source": [
    "E"
   ]
  }
 ],
 "metadata": {
  "kernelspec": {
   "display_name": "Python 2",
   "language": "python",
   "name": "python2"
  },
  "language_info": {
   "codemirror_mode": {
    "name": "ipython",
    "version": 2
   },
   "file_extension": ".py",
   "mimetype": "text/x-python",
   "name": "python",
   "nbconvert_exporter": "python",
   "pygments_lexer": "ipython2",
   "version": "2.7.9"
  }
 },
 "nbformat": 4,
 "nbformat_minor": 0
}
