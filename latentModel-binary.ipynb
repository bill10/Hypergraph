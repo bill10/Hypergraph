{
 "cells": [
  {
   "cell_type": "markdown",
   "metadata": {},
   "source": [
    "# A Latent Space Model for Hypergraphs"
   ]
  },
  {
   "cell_type": "markdown",
   "metadata": {},
   "source": [
    "* Let $G=(V,E)$ be a hypergraph, where $E$ is the collection of hyperedges.\n",
    "* Let $H$ be the collection of admisible combinations of nodes, (e.g., if we only consider hyperedges of size less than 10). \n",
    "* $G$ is modeled as a collection of random variables ${X_h: h\\in H}$.\n",
    "* $X_h\\sim Bernoulli(p_h)$.\n",
    "* The mean $p_h$ depends on the features of nodes in $h$: $$p_h=\\frac{e^{-\\alpha|h|}\\sum_k\\prod_{i\\in h}\\theta_{ik}}{1+e^{-\\alpha|h|}\\sum_k\\prod_{i\\in h}\\theta_{ik}},$$ where $\\theta_i$: the latent feature vector for node $i$.\n",
    "* Assume $X_h$'s are independent of each other given $\\theta=(\\theta_i)$.\n",
    "* The distribution of $G$ is given by $$p(G|\\theta)=\\prod_{h\\in H} p(x_h|\\theta)$$.\n",
    "* Take a Bayesian approach to estimate $\\theta$ and sample $\\theta$ from the posterior using MCMC.\n",
    "    * Propose $\\theta'$.\n",
    "    * Draw $G'$ given $\\theta'$.\n",
    "        * Start from $G$.\n",
    "        * Every step pick $h\\in H$ at random.\n",
    "        * Draw $X_e$ from $Poisson(\\lambda_h(\\theta'))$.\n",
    "    * Move to $\\theta'$ with probability $\\rho$."
   ]
  },
  {
   "cell_type": "code",
   "execution_count": 1,
   "metadata": {
    "collapsed": true
   },
   "outputs": [],
   "source": [
    "%matplotlib inline\n",
    "import pylab as plt\n",
    "import numpy as np\n",
    "import scipy.sparse as ssp\n",
    "import random\n",
    "from collections import Counter\n",
    "from scipy.stats import dirichlet, truncnorm\n",
    "import sys\n",
    "import pickle\n",
    "import time\n",
    "from string import lower\n",
    "from itertools import combinations, izip, chain\n",
    "from collections import Counter\n",
    "from scipy.stats import pearsonr, norm, poisson\n",
    "from scipy.misc import comb"
   ]
  },
  {
   "cell_type": "code",
   "execution_count": 2,
   "metadata": {
    "collapsed": true
   },
   "outputs": [],
   "source": [
    "class Stopwatch:\n",
    "    start_time=None\n",
    "    def go(self,msg=''):\n",
    "        if msg:\n",
    "            print msg,\n",
    "        self.start_time=time.time()\n",
    "        sys.stdout.flush()\n",
    "    def stop(self,msg=''):\n",
    "        if msg:\n",
    "            print \"{}: {} seconds\".format(msg,time.time()-self.start_time)\n",
    "        else:\n",
    "            print \"Elapsed time: {} seconds\".format(time.time()-self.start_time)\n",
    "        sys.stdout.flush()\n",
    "    def check(self):\n",
    "        return time.time()-self.start_time\n",
    "\n",
    "\n",
    "def LoadDate(filename):\n",
    "    tic=Stopwatch()\n",
    "    print \"Loading paper dates %s from disk...\" % filename,\n",
    "    tic.go()\n",
    "    pkl_file = open(filename, 'rb')\n",
    "    A=pickle.load(pkl_file)\n",
    "    pkl_file.close()\n",
    "    tic.stop()\n",
    "    return A\n",
    "\n",
    "\n",
    "def LoadData(filename):\n",
    "    tic=Stopwatch()\n",
    "    print \"Loading file %s from disk...\" % filename,\n",
    "    tic.go()\n",
    "    pkl_file = open(filename, 'rb')   \n",
    "    (row,col) = pickle.load(pkl_file)        \n",
    "    pkl_file.close()\n",
    "    A=ssp.coo_matrix((np.ones(len(row),dtype=np.int8),(row,col)),shape=(19916562,col.max()+1),dtype=np.float)\n",
    "    tic.stop()\n",
    "    return A"
   ]
  },
  {
   "cell_type": "markdown",
   "metadata": {},
   "source": [
    "### Initialization"
   ]
  },
  {
   "cell_type": "markdown",
   "metadata": {},
   "source": [
    "* Read in the hypergraph of Medline"
   ]
  },
  {
   "cell_type": "code",
   "execution_count": 3,
   "metadata": {
    "collapsed": false
   },
   "outputs": [
    {
     "name": "stdout",
     "output_type": "stream",
     "text": [
      "Loading citation data... Elapsed time: 28.7965199947 seconds\n",
      "Loading file ../hypergraph/chemical.pkl from disk... Elapsed time: 20.2852339745 seconds\n",
      "Loading file ../hypergraph/disease.pkl from disk... Elapsed time: 13.1440470219 seconds\n",
      "Loading file ../hypergraph/method.pkl from disk... Elapsed time: 19.9863109589 seconds\n",
      "Loading paper dates ../hypergraph/date.pkl from disk... Elapsed time: 6.10210204124 seconds\n"
     ]
    }
   ],
   "source": [
    "tic=Stopwatch()\n",
    "\n",
    "tic.go('Loading citation data...')\n",
    "citations=pickle.load(open('../hypergraph/citations.pkl'))\n",
    "tic.stop()\n",
    "# Load hypergraphs\n",
    "thing=['Author','Chemical','Disease','Method']\n",
    "G=[]\n",
    "for i in range(1,4):\n",
    "    G.append(LoadData('../hypergraph/'+lower(thing[i])+'.pkl'))\n",
    "G=ssp.hstack(G).tocsr()\n",
    "\n",
    "paper_dates=LoadDate('../hypergraph/date.pkl') # Load publicatioin dates\n",
    "\n",
    "id2chemical=pickle.load(open('../hypergraph/Citation/id2chemical.pkl'))\n",
    "id2disease=pickle.load(open('../hypergraph/Citation/id2disease.pkl'))\n",
    "id2method=pickle.load(open('../hypergraph/Citation/id2method.pkl'))\n",
    "id2name=np.array(id2chemical+id2disease+id2method)"
   ]
  },
  {
   "cell_type": "code",
   "execution_count": 5,
   "metadata": {
    "collapsed": true
   },
   "outputs": [],
   "source": [
    "G0=G[((paper_dates==1970)).nonzero()[0],:]\n",
    "E0=set((tuple(row.nonzero()[1]) for row in G0 if row.size>0)) # set of hyperedges"
   ]
  },
  {
   "cell_type": "code",
   "execution_count": 6,
   "metadata": {
    "collapsed": true
   },
   "outputs": [],
   "source": [
    "E=random.sample(E0,10000)\n",
    "M = len(E) # number of edges\n",
    "V = sorted(set(chain(*list(E)))) #range(G0.shape[1]) # list of nodes\n",
    "N = max(V)+1 # number of nodes\n",
    "averageSize=5"
   ]
  },
  {
   "cell_type": "code",
   "execution_count": 3,
   "metadata": {
    "collapsed": true
   },
   "outputs": [],
   "source": [
    "N = 10\n",
    "V = range(N)\n",
    "M = 20\n",
    "E = set()\n",
    "averageSize=3\n",
    "\n",
    "for j in xrange(M): \n",
    "    n=min(max(1,np.random.poisson(averageSize)),N)\n",
    "    E.add(tuple(sorted(random.sample(V,n))))"
   ]
  },
  {
   "cell_type": "code",
   "execution_count": 4,
   "metadata": {
    "collapsed": true
   },
   "outputs": [],
   "source": [
    "def ph(h,theta,alpha):\n",
    "    return theta[:,list(h)].prod(axis=1).sum()*np.exp(-len(h)*alpha)\n",
    "    \n",
    "def sampleG(theta,alpha,E):\n",
    "    change=dict()\n",
    "    for i in xrange(1000):\n",
    "        n=np.random.poisson(averageSize)\n",
    "        h=tuple(sorted(random.sample(V,min(max(n,1),N))))\n",
    "        p=ph(h,theta,alpha)\n",
    "        if random.random()<=p:\n",
    "            if h not in E:\n",
    "                change[h]=1\n",
    "        else:\n",
    "            if h in E:\n",
    "                change[h]=0\n",
    "    return change"
   ]
  },
  {
   "cell_type": "markdown",
   "metadata": {},
   "source": [
    "#### Simulate $\\theta$"
   ]
  },
  {
   "cell_type": "code",
   "execution_count": null,
   "metadata": {
    "collapsed": false
   },
   "outputs": [],
   "source": [
    "K = 10 # dimension of hidden space\n",
    "theta = np.random.lognormal(1,1,size=(K,N))\n",
    "alpha=10\n",
    "Y = dict()\n",
    "aThetaRate=0.0\n",
    "aAlphaRate=0.0\n",
    "rOld=1\n",
    "for i in xrange(5000):\n",
    "    # Propose new theta\n",
    "    thetaP = np.random.lognormal(1,1,size=(K,N))\n",
    "    # Sample Y' from new theta\n",
    "    YP=sampleG(thetaP,alpha,E)\n",
    "    # Calculate transition probability\n",
    "    r=1.0\n",
    "    for h in YP:\n",
    "        p=ph(h,thetaP,alpha)\n",
    "        if YP[h]==0:\n",
    "            if p==0:\n",
    "                r=0\n",
    "                break\n",
    "            else:\n",
    "                r*=p/(1-p)\n",
    "        else:\n",
    "            if p!=0:\n",
    "                r*=(1-p)/p\n",
    "    rho=r/rOld\n",
    "    rho*=np.exp((-len(YP)+len(Y))/1000.0)\n",
    "    # Move\n",
    "    if random.random()<rho:\n",
    "        aThetaRate+=1\n",
    "        theta=thetaP\n",
    "        Y=YP\n",
    "        rOld=r\n",
    "    \n",
    "    # Propose new alpha\n",
    "    alphaP=abs(alpha+np.random.normal(scale=0.1))\n",
    "    # Sample G' from new alpha\n",
    "    YP=sampleG(thetaP,alpha,E)\n",
    "    # Calculate transition probability\n",
    "    r=1.0\n",
    "    for h in YP:\n",
    "        p=ph(h,thetaP,alpha)\n",
    "        if YP[h]==0:\n",
    "            if p==0:\n",
    "                r=0\n",
    "                break\n",
    "            else:\n",
    "                r*=p/(1-p)\n",
    "        else:\n",
    "            if p!=0:\n",
    "                r*=(1-p)/p\n",
    "    rho=r/rOld\n",
    "    rho*=np.exp((-len(YP)+len(Y))/1000.0)\n",
    "    rho*=norm.pdf(alphaP,1,10)/norm.pdf(alpha,1,10)\n",
    "    # Move\n",
    "    if random.random()<rho:\n",
    "        aAlphaRate+=1\n",
    "        alpha=alphaP\n",
    "        Y=YP\n",
    "        rOld=r"
   ]
  },
  {
   "cell_type": "code",
   "execution_count": null,
   "metadata": {
    "collapsed": true
   },
   "outputs": [],
   "source": [
    "Counter([len(i) for i in EP.keys()]), aRate, len(EP), alpha"
   ]
  },
  {
   "cell_type": "code",
   "execution_count": null,
   "metadata": {
    "collapsed": true
   },
   "outputs": [],
   "source": [
    "L=[]\n",
    "samples=[]\n",
    "LRandom=[]\n",
    "randomSamples=[]\n",
    "for e in E:\n",
    "    if len(e)<2:\n",
    "        continue\n",
    "    samples.append(e)\n",
    "    L.append(poisson.pmf(E[e],Lambda(e,theta,alpha)))\n",
    "    while True:\n",
    "        n=len(e)#np.random.poisson(len(e))\n",
    "        e0=tuple(sorted(random.sample(V,min(max(n,1),N)),reverse=True))\n",
    "        if e0 not in E0:\n",
    "            break\n",
    "    randomSamples.append(e0)\n",
    "    LRandom.append(poisson.pmf(1,Lambda(e0,theta,alpha)))\n",
    "\n",
    "plt.hist([L,LRandom])"
   ]
  },
  {
   "cell_type": "code",
   "execution_count": null,
   "metadata": {
    "collapsed": true
   },
   "outputs": [],
   "source": [
    "max(L),max(LRandom)"
   ]
  },
  {
   "cell_type": "code",
   "execution_count": null,
   "metadata": {
    "collapsed": true
   },
   "outputs": [],
   "source": [
    "zip(randomSamples,samples)"
   ]
  },
  {
   "cell_type": "code",
   "execution_count": null,
   "metadata": {
    "collapsed": true
   },
   "outputs": [],
   "source": [
    "Lambda((14544, 11249, 9499),theta,alpha), Lambda( (11763, 2528, 1879),theta,alpha)"
   ]
  },
  {
   "cell_type": "code",
   "execution_count": null,
   "metadata": {
    "collapsed": true
   },
   "outputs": [],
   "source": [
    "theta[:,list((14544, 11249, 9499))],theta[:,list( (11763, 2528, 1879))]"
   ]
  }
 ],
 "metadata": {
  "kernelspec": {
   "display_name": "Python 2",
   "language": "python",
   "name": "python2"
  },
  "language_info": {
   "codemirror_mode": {
    "name": "ipython",
    "version": 2
   },
   "file_extension": ".py",
   "mimetype": "text/x-python",
   "name": "python",
   "nbconvert_exporter": "python",
   "pygments_lexer": "ipython2",
   "version": "2.7.9"
  }
 },
 "nbformat": 4,
 "nbformat_minor": 0
}
