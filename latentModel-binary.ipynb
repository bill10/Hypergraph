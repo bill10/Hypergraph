{
 "cells": [
  {
   "cell_type": "markdown",
   "metadata": {},
   "source": [
    "# A Latent Space Model for Hypergraphs"
   ]
  },
  {
   "cell_type": "markdown",
   "metadata": {},
   "source": [
    "* Let $G=(V,E)$ be a hypergraph, where $E$ is the collection of hyperedges.\n",
    "* Let $H$ be the collection of admisible combinations of nodes, (e.g., if we only consider hyperedges of size less than 10). \n",
    "* $G$ is modeled as a collection of random variables ${X_h: h\\in H}$.\n",
    "* $X_h\\sim Bernoulli(p_h)$.\n",
    "* The mean $p_h$ depends on the features of nodes in $h$: $$p_h=\\frac{e^{-\\alpha|h|}\\sum_k\\prod_{i\\in h}\\theta_{ik}}{1+e^{-\\alpha|h|}\\sum_k\\prod_{i\\in h}\\theta_{ik}},$$ where $\\theta_i$: the latent feature vector for node $i$.\n",
    "* Assume $X_h$'s are independent of each other given $\\theta=(\\theta_i)$.\n",
    "* The distribution of $G$ is given by $$p(G|\\theta)=\\prod_{h\\in H} p(x_h|\\theta)$$.\n",
    "* Take a Bayesian approach to estimate $\\theta$ and sample $\\theta$ from the posterior using MCMC.\n",
    "    * Propose $\\theta'$.\n",
    "    * Draw $G'$ given $\\theta'$.\n",
    "        * Start from $G$.\n",
    "        * Every step pick $h\\in H$ at random.\n",
    "        * Draw $X_e$ from $Poisson(\\lambda_h(\\theta'))$.\n",
    "    * Move to $\\theta'$ with probability $\\rho$."
   ]
  },
  {
   "cell_type": "code",
   "execution_count": 1,
   "metadata": {
    "collapsed": true
   },
   "outputs": [],
   "source": [
    "%matplotlib inline\n",
    "import pylab as plt\n",
    "import numpy as np\n",
    "import scipy.sparse as ssp\n",
    "import random\n",
    "from collections import Counter\n",
    "from scipy.stats import dirichlet, truncnorm\n",
    "import sys\n",
    "import pickle\n",
    "import time\n",
    "from string import lower\n",
    "from itertools import combinations, izip, chain\n",
    "from collections import Counter\n",
    "from scipy.stats import pearsonr, norm, poisson\n",
    "from scipy.misc import comb"
   ]
  },
  {
   "cell_type": "code",
   "execution_count": 2,
   "metadata": {
    "collapsed": true
   },
   "outputs": [],
   "source": [
    "class Stopwatch:\n",
    "    start_time=None\n",
    "    def go(self,msg=''):\n",
    "        if msg:\n",
    "            print msg,\n",
    "        self.start_time=time.time()\n",
    "        sys.stdout.flush()\n",
    "    def stop(self,msg=''):\n",
    "        if msg:\n",
    "            print \"{}: {} seconds\".format(msg,time.time()-self.start_time)\n",
    "        else:\n",
    "            print \"Elapsed time: {} seconds\".format(time.time()-self.start_time)\n",
    "        sys.stdout.flush()\n",
    "    def check(self):\n",
    "        return time.time()-self.start_time\n",
    "\n",
    "\n",
    "def LoadDate(filename):\n",
    "    tic=Stopwatch()\n",
    "    print \"Loading paper dates %s from disk...\" % filename,\n",
    "    tic.go()\n",
    "    pkl_file = open(filename, 'rb')\n",
    "    A=pickle.load(pkl_file)\n",
    "    pkl_file.close()\n",
    "    tic.stop()\n",
    "    return A\n",
    "\n",
    "\n",
    "def LoadData(filename):\n",
    "    tic=Stopwatch()\n",
    "    print \"Loading file %s from disk...\" % filename,\n",
    "    tic.go()\n",
    "    pkl_file = open(filename, 'rb')   \n",
    "    (row,col) = pickle.load(pkl_file)        \n",
    "    pkl_file.close()\n",
    "    A=ssp.coo_matrix((np.ones(len(row),dtype=np.int8),(row,col)),shape=(19916562,col.max()+1),dtype=np.float)\n",
    "    tic.stop()\n",
    "    return A"
   ]
  },
  {
   "cell_type": "markdown",
   "metadata": {},
   "source": [
    "### Initialization"
   ]
  },
  {
   "cell_type": "markdown",
   "metadata": {},
   "source": [
    "* Read in the hypergraph of Medline"
   ]
  },
  {
   "cell_type": "code",
   "execution_count": 3,
   "metadata": {
    "collapsed": false
   },
   "outputs": [
    {
     "name": "stdout",
     "output_type": "stream",
     "text": [
      "Loading citation data... Elapsed time: 28.7965199947 seconds\n",
      "Loading file ../hypergraph/chemical.pkl from disk... Elapsed time: 20.2852339745 seconds\n",
      "Loading file ../hypergraph/disease.pkl from disk... Elapsed time: 13.1440470219 seconds\n",
      "Loading file ../hypergraph/method.pkl from disk... Elapsed time: 19.9863109589 seconds\n",
      "Loading paper dates ../hypergraph/date.pkl from disk... Elapsed time: 6.10210204124 seconds\n"
     ]
    }
   ],
   "source": [
    "tic=Stopwatch()\n",
    "\n",
    "tic.go('Loading citation data...')\n",
    "citations=pickle.load(open('../hypergraph/citations.pkl'))\n",
    "tic.stop()\n",
    "# Load hypergraphs\n",
    "thing=['Author','Chemical','Disease','Method']\n",
    "G=[]\n",
    "for i in range(1,4):\n",
    "    G.append(LoadData('../hypergraph/'+lower(thing[i])+'.pkl'))\n",
    "G=ssp.hstack(G).tocsr()\n",
    "\n",
    "paper_dates=LoadDate('../hypergraph/date.pkl') # Load publicatioin dates\n",
    "\n",
    "id2chemical=pickle.load(open('../hypergraph/Citation/id2chemical.pkl'))\n",
    "id2disease=pickle.load(open('../hypergraph/Citation/id2disease.pkl'))\n",
    "id2method=pickle.load(open('../hypergraph/Citation/id2method.pkl'))\n",
    "id2name=np.array(id2chemical+id2disease+id2method)"
   ]
  },
  {
   "cell_type": "code",
   "execution_count": 5,
   "metadata": {
    "collapsed": true
   },
   "outputs": [],
   "source": [
    "G0=G[((paper_dates==1970)).nonzero()[0],:]\n",
    "E0=set((tuple(row.nonzero()[1]) for row in G0 if row.size>0)) # set of hyperedges"
   ]
  },
  {
   "cell_type": "code",
   "execution_count": 6,
   "metadata": {
    "collapsed": true
   },
   "outputs": [],
   "source": [
    "E=random.sample(E0,10000)\n",
    "M = len(E) # number of edges\n",
    "V = sorted(set(chain(*list(E)))) #range(G0.shape[1]) # list of nodes\n",
    "N = max(V)+1 # number of nodes\n",
    "K = 10 # dimension of hidden space\n",
    "averageSize=5\n",
    "theta = np.random.lognormal(1,1,size=(K,N))\n",
    "alpha=10\n",
    "Y = dict()"
   ]
  },
  {
   "cell_type": "code",
   "execution_count": 7,
   "metadata": {
    "collapsed": true
   },
   "outputs": [],
   "source": [
    "def ph(h,theta,alpha):\n",
    "    return theta[:,list(h)].prod(axis=1).sum()*np.exp(-len(h)*alpha)\n",
    "    \n",
    "def sampleG(theta,alpha,E):\n",
    "    change=dict()\n",
    "    for i in xrange(20000):\n",
    "        n=np.random.poisson(averageSize)\n",
    "        h=tuple(sorted(random.sample(V,min(max(n,1),N))))\n",
    "        p=ph(h,theta,alpha)\n",
    "        if random.random()<=p:\n",
    "            if h not in E:\n",
    "                change[h]=1\n",
    "        else:\n",
    "            if h in E:\n",
    "                change[h]=0\n",
    "    return change"
   ]
  },
  {
   "cell_type": "markdown",
   "metadata": {},
   "source": [
    "#### Simulate $\\theta$"
   ]
  },
  {
   "cell_type": "code",
   "execution_count": 11,
   "metadata": {
    "collapsed": false
   },
   "outputs": [
    {
     "name": "stdout",
     "output_type": "stream",
     "text": [
      "Traceback (most recent call last):\n",
      "  File \"/home/ubuntu/anaconda/lib/python2.7/site-packages/IPython/core/ultratb.py\", line 970, in get_records\n",
      "    return _fixed_getinnerframes(etb, number_of_lines_of_context, tb_offset)\n",
      "  File \"/home/ubuntu/anaconda/lib/python2.7/site-packages/IPython/core/ultratb.py\", line 233, in wrapped\n",
      "    return f(*args, **kwargs)\n",
      "  File \"/home/ubuntu/anaconda/lib/python2.7/site-packages/IPython/core/ultratb.py\", line 267, in _fixed_getinnerframes\n",
      "    records = fix_frame_records_filenames(inspect.getinnerframes(etb, context))\n",
      "  File \"/home/ubuntu/anaconda/lib/python2.7/inspect.py\", line 1044, in getinnerframes\n",
      "    framelist.append((tb.tb_frame,) + getframeinfo(tb, context))\n",
      "  File \"/home/ubuntu/anaconda/lib/python2.7/inspect.py\", line 1004, in getframeinfo\n",
      "    filename = getsourcefile(frame) or getfile(frame)\n",
      "  File \"/home/ubuntu/anaconda/lib/python2.7/inspect.py\", line 454, in getsourcefile\n",
      "    if hasattr(getmodule(object, filename), '__loader__'):\n",
      "  File \"/home/ubuntu/anaconda/lib/python2.7/inspect.py\", line 483, in getmodule\n",
      "    file = getabsfile(object, _filename)\n",
      "  File \"/home/ubuntu/anaconda/lib/python2.7/inspect.py\", line 467, in getabsfile\n",
      "    return os.path.normcase(os.path.abspath(_filename))\n",
      "  File \"/home/ubuntu/anaconda/lib/python2.7/posixpath.py\", line 371, in abspath\n",
      "    cwd = os.getcwd()\n",
      "OSError: [Errno 2] No such file or directory\n"
     ]
    },
    {
     "name": "stderr",
     "output_type": "stream",
     "text": [
      "ERROR: Internal Python error in the inspect module.\n",
      "Below is the traceback from this internal error.\n",
      "\n",
      "\n",
      "Unfortunately, your original traceback can not be constructed.\n",
      "\n"
     ]
    },
    {
     "ename": "TypeError",
     "evalue": "'NoneType' object is not iterable",
     "output_type": "error",
     "traceback": [
      "\u001b[1;31m---------------------------------------------------------------------------\u001b[0m",
      "\u001b[1;31mTypeError\u001b[0m                                 Traceback (most recent call last)",
      "\u001b[1;32m/home/ubuntu/anaconda/lib/python2.7/site-packages/IPython/core/interactiveshell.pyc\u001b[0m in \u001b[0;36mrun_code\u001b[1;34m(self, code_obj, result)\u001b[0m\n\u001b[0;32m   3047\u001b[0m             \u001b[1;32mif\u001b[0m \u001b[0mresult\u001b[0m \u001b[1;32mis\u001b[0m \u001b[1;32mnot\u001b[0m \u001b[0mNone\u001b[0m\u001b[1;33m:\u001b[0m\u001b[1;33m\u001b[0m\u001b[0m\n\u001b[0;32m   3048\u001b[0m                 \u001b[0mresult\u001b[0m\u001b[1;33m.\u001b[0m\u001b[0merror_in_exec\u001b[0m \u001b[1;33m=\u001b[0m \u001b[0msys\u001b[0m\u001b[1;33m.\u001b[0m\u001b[0mexc_info\u001b[0m\u001b[1;33m(\u001b[0m\u001b[1;33m)\u001b[0m\u001b[1;33m[\u001b[0m\u001b[1;36m1\u001b[0m\u001b[1;33m]\u001b[0m\u001b[1;33m\u001b[0m\u001b[0m\n\u001b[1;32m-> 3049\u001b[1;33m             \u001b[0mself\u001b[0m\u001b[1;33m.\u001b[0m\u001b[0mshowtraceback\u001b[0m\u001b[1;33m(\u001b[0m\u001b[1;33m)\u001b[0m\u001b[1;33m\u001b[0m\u001b[0m\n\u001b[0m\u001b[0;32m   3050\u001b[0m         \u001b[1;32melse\u001b[0m\u001b[1;33m:\u001b[0m\u001b[1;33m\u001b[0m\u001b[0m\n\u001b[0;32m   3051\u001b[0m             \u001b[0moutflag\u001b[0m \u001b[1;33m=\u001b[0m \u001b[1;36m0\u001b[0m\u001b[1;33m\u001b[0m\u001b[0m\n",
      "\u001b[1;32m/home/ubuntu/anaconda/lib/python2.7/site-packages/IPython/core/interactiveshell.pyc\u001b[0m in \u001b[0;36mshowtraceback\u001b[1;34m(self, exc_tuple, filename, tb_offset, exception_only)\u001b[0m\n\u001b[0;32m   1846\u001b[0m                     \u001b[1;32mexcept\u001b[0m \u001b[0mException\u001b[0m\u001b[1;33m:\u001b[0m\u001b[1;33m\u001b[0m\u001b[0m\n\u001b[0;32m   1847\u001b[0m                         stb = self.InteractiveTB.structured_traceback(etype,\n\u001b[1;32m-> 1848\u001b[1;33m                                             value, tb, tb_offset=tb_offset)\n\u001b[0m\u001b[0;32m   1849\u001b[0m \u001b[1;33m\u001b[0m\u001b[0m\n\u001b[0;32m   1850\u001b[0m                     \u001b[0mself\u001b[0m\u001b[1;33m.\u001b[0m\u001b[0m_showtraceback\u001b[0m\u001b[1;33m(\u001b[0m\u001b[0metype\u001b[0m\u001b[1;33m,\u001b[0m \u001b[0mvalue\u001b[0m\u001b[1;33m,\u001b[0m \u001b[0mstb\u001b[0m\u001b[1;33m)\u001b[0m\u001b[1;33m\u001b[0m\u001b[0m\n",
      "\u001b[1;32m/home/ubuntu/anaconda/lib/python2.7/site-packages/IPython/core/ultratb.pyc\u001b[0m in \u001b[0;36mstructured_traceback\u001b[1;34m(self, etype, value, tb, tb_offset, number_of_lines_of_context)\u001b[0m\n\u001b[0;32m   1238\u001b[0m         \u001b[0mself\u001b[0m\u001b[1;33m.\u001b[0m\u001b[0mtb\u001b[0m \u001b[1;33m=\u001b[0m \u001b[0mtb\u001b[0m\u001b[1;33m\u001b[0m\u001b[0m\n\u001b[0;32m   1239\u001b[0m         return FormattedTB.structured_traceback(\n\u001b[1;32m-> 1240\u001b[1;33m             self, etype, value, tb, tb_offset, number_of_lines_of_context)\n\u001b[0m\u001b[0;32m   1241\u001b[0m \u001b[1;33m\u001b[0m\u001b[0m\n\u001b[0;32m   1242\u001b[0m \u001b[1;33m\u001b[0m\u001b[0m\n",
      "\u001b[1;32m/home/ubuntu/anaconda/lib/python2.7/site-packages/IPython/core/ultratb.pyc\u001b[0m in \u001b[0;36mstructured_traceback\u001b[1;34m(self, etype, value, tb, tb_offset, number_of_lines_of_context)\u001b[0m\n\u001b[0;32m   1146\u001b[0m             \u001b[1;31m# Verbose modes need a full traceback\u001b[0m\u001b[1;33m\u001b[0m\u001b[1;33m\u001b[0m\u001b[0m\n\u001b[0;32m   1147\u001b[0m             return VerboseTB.structured_traceback(\n\u001b[1;32m-> 1148\u001b[1;33m                 \u001b[0mself\u001b[0m\u001b[1;33m,\u001b[0m \u001b[0metype\u001b[0m\u001b[1;33m,\u001b[0m \u001b[0mvalue\u001b[0m\u001b[1;33m,\u001b[0m \u001b[0mtb\u001b[0m\u001b[1;33m,\u001b[0m \u001b[0mtb_offset\u001b[0m\u001b[1;33m,\u001b[0m \u001b[0mnumber_of_lines_of_context\u001b[0m\u001b[1;33m\u001b[0m\u001b[0m\n\u001b[0m\u001b[0;32m   1149\u001b[0m             )\n\u001b[0;32m   1150\u001b[0m         \u001b[1;32melse\u001b[0m\u001b[1;33m:\u001b[0m\u001b[1;33m\u001b[0m\u001b[0m\n",
      "\u001b[1;32m/home/ubuntu/anaconda/lib/python2.7/site-packages/IPython/core/ultratb.pyc\u001b[0m in \u001b[0;36mstructured_traceback\u001b[1;34m(self, etype, evalue, etb, tb_offset, number_of_lines_of_context)\u001b[0m\n\u001b[0;32m    998\u001b[0m \u001b[1;33m\u001b[0m\u001b[0m\n\u001b[0;32m    999\u001b[0m         formatted_exception = self.format_exception_as_a_whole(etype, evalue, etb, number_of_lines_of_context,\n\u001b[1;32m-> 1000\u001b[1;33m                                                                tb_offset)\n\u001b[0m\u001b[0;32m   1001\u001b[0m \u001b[1;33m\u001b[0m\u001b[0m\n\u001b[0;32m   1002\u001b[0m         \u001b[0mcolors\u001b[0m \u001b[1;33m=\u001b[0m \u001b[0mself\u001b[0m\u001b[1;33m.\u001b[0m\u001b[0mColors\u001b[0m  \u001b[1;31m# just a shorthand + quicker name lookup\u001b[0m\u001b[1;33m\u001b[0m\u001b[0m\n",
      "\u001b[1;32m/home/ubuntu/anaconda/lib/python2.7/site-packages/IPython/core/ultratb.pyc\u001b[0m in \u001b[0;36mformat_exception_as_a_whole\u001b[1;34m(self, etype, evalue, etb, number_of_lines_of_context, tb_offset)\u001b[0m\n\u001b[0;32m    949\u001b[0m         \u001b[0mrecords\u001b[0m \u001b[1;33m=\u001b[0m \u001b[0mself\u001b[0m\u001b[1;33m.\u001b[0m\u001b[0mget_records\u001b[0m\u001b[1;33m(\u001b[0m\u001b[0metb\u001b[0m\u001b[1;33m,\u001b[0m \u001b[0mnumber_of_lines_of_context\u001b[0m\u001b[1;33m,\u001b[0m \u001b[0mtb_offset\u001b[0m\u001b[1;33m)\u001b[0m\u001b[1;33m\u001b[0m\u001b[0m\n\u001b[0;32m    950\u001b[0m \u001b[1;33m\u001b[0m\u001b[0m\n\u001b[1;32m--> 951\u001b[1;33m         \u001b[0mframes\u001b[0m \u001b[1;33m=\u001b[0m \u001b[0mself\u001b[0m\u001b[1;33m.\u001b[0m\u001b[0mformat_records\u001b[0m\u001b[1;33m(\u001b[0m\u001b[0mrecords\u001b[0m\u001b[1;33m)\u001b[0m\u001b[1;33m\u001b[0m\u001b[0m\n\u001b[0m\u001b[0;32m    952\u001b[0m         \u001b[1;32mif\u001b[0m \u001b[0mrecords\u001b[0m \u001b[1;32mis\u001b[0m \u001b[0mNone\u001b[0m\u001b[1;33m:\u001b[0m\u001b[1;33m\u001b[0m\u001b[0m\n\u001b[0;32m    953\u001b[0m             \u001b[1;32mreturn\u001b[0m \u001b[1;34m\"\"\u001b[0m\u001b[1;33m\u001b[0m\u001b[0m\n",
      "\u001b[1;32m/home/ubuntu/anaconda/lib/python2.7/site-packages/IPython/core/ultratb.pyc\u001b[0m in \u001b[0;36mformat_records\u001b[1;34m(self, records)\u001b[0m\n\u001b[0;32m    722\u001b[0m \u001b[1;33m\u001b[0m\u001b[0m\n\u001b[0;32m    723\u001b[0m         \u001b[0mabspath\u001b[0m \u001b[1;33m=\u001b[0m \u001b[0mos\u001b[0m\u001b[1;33m.\u001b[0m\u001b[0mpath\u001b[0m\u001b[1;33m.\u001b[0m\u001b[0mabspath\u001b[0m\u001b[1;33m\u001b[0m\u001b[0m\n\u001b[1;32m--> 724\u001b[1;33m         \u001b[1;32mfor\u001b[0m \u001b[0mframe\u001b[0m\u001b[1;33m,\u001b[0m \u001b[0mfile\u001b[0m\u001b[1;33m,\u001b[0m \u001b[0mlnum\u001b[0m\u001b[1;33m,\u001b[0m \u001b[0mfunc\u001b[0m\u001b[1;33m,\u001b[0m \u001b[0mlines\u001b[0m\u001b[1;33m,\u001b[0m \u001b[0mindex\u001b[0m \u001b[1;32min\u001b[0m \u001b[0mrecords\u001b[0m\u001b[1;33m:\u001b[0m\u001b[1;33m\u001b[0m\u001b[0m\n\u001b[0m\u001b[0;32m    725\u001b[0m             \u001b[1;31m#print '*** record:',file,lnum,func,lines,index  # dbg\u001b[0m\u001b[1;33m\u001b[0m\u001b[1;33m\u001b[0m\u001b[0m\n\u001b[0;32m    726\u001b[0m             \u001b[1;32mif\u001b[0m \u001b[1;32mnot\u001b[0m \u001b[0mfile\u001b[0m\u001b[1;33m:\u001b[0m\u001b[1;33m\u001b[0m\u001b[0m\n",
      "\u001b[1;31mTypeError\u001b[0m: 'NoneType' object is not iterable"
     ]
    }
   ],
   "source": [
    "aThetaRate=0.0\n",
    "aAlphaRate=0.0\n",
    "for i in xrange(5000):\n",
    "    # Propose new theta\n",
    "    thetaP = np.random.lognormal(1,1,size=(K,N))\n",
    "    # Sample Y' from new theta\n",
    "    YP=sampleG(thetaP,alpha,E)\n",
    "    # Calculate transition probability\n",
    "    r=1.0\n",
    "    for h in YP:\n",
    "        p=ph(h,thetaP,alpha)\n",
    "        if YP[h]==0:\n",
    "            if p==0:\n",
    "                r=0\n",
    "                break\n",
    "            else:\n",
    "                r*=p/(1-p)\n",
    "        else:\n",
    "            if p!=0:\n",
    "                r*=(1-p)/p\n",
    "    rho=r/rOld\n",
    "    rho*=np.exp((-len(YP)+len(Y))/1000.0)\n",
    "    # Move\n",
    "    if random.random()<rho:\n",
    "        aThetaRate+=1\n",
    "        theta=thetaP\n",
    "        Y=YP\n",
    "        rOld=r\n",
    "    \n",
    "    # Propose new alpha\n",
    "    alphaP=abs(alpha+np.random.normal(scale=0.1))\n",
    "    # Sample G' from new alpha\n",
    "    YP=sampleG(thetaP,alpha,E)\n",
    "    # Calculate transition probability\n",
    "    r=1.0\n",
    "    for h in YP:\n",
    "        p=ph(h,thetaP,alpha)\n",
    "        if YP[h]==0:\n",
    "            if p==0:\n",
    "                r=0\n",
    "                break\n",
    "            else:\n",
    "                r*=p/(1-p)\n",
    "        else:\n",
    "            if p!=0:\n",
    "                r*=(1-p)/p\n",
    "    rho=r/rOld\n",
    "    rho*=np.exp((-len(YP)+len(Y))/1000.0)\n",
    "    rho*=norm.pdf(alphaP,1,10)/norm.pdf(alpha,1,10)\n",
    "    # Move\n",
    "    if random.random()<rho:\n",
    "        aAlphaRate+=1\n",
    "        alpha=alphaP\n",
    "        Y=YP\n",
    "        rOld=r"
   ]
  },
  {
   "cell_type": "code",
   "execution_count": null,
   "metadata": {
    "collapsed": true
   },
   "outputs": [],
   "source": [
    "Counter([len(i) for i in EP.keys()]), aRate, len(EP), alpha"
   ]
  },
  {
   "cell_type": "code",
   "execution_count": null,
   "metadata": {
    "collapsed": true
   },
   "outputs": [],
   "source": [
    "L=[]\n",
    "samples=[]\n",
    "LRandom=[]\n",
    "randomSamples=[]\n",
    "for e in E:\n",
    "    if len(e)<2:\n",
    "        continue\n",
    "    samples.append(e)\n",
    "    L.append(poisson.pmf(E[e],Lambda(e,theta,alpha)))\n",
    "    while True:\n",
    "        n=len(e)#np.random.poisson(len(e))\n",
    "        e0=tuple(sorted(random.sample(V,min(max(n,1),N)),reverse=True))\n",
    "        if e0 not in E0:\n",
    "            break\n",
    "    randomSamples.append(e0)\n",
    "    LRandom.append(poisson.pmf(1,Lambda(e0,theta,alpha)))\n",
    "\n",
    "plt.hist([L,LRandom])"
   ]
  },
  {
   "cell_type": "code",
   "execution_count": null,
   "metadata": {
    "collapsed": true
   },
   "outputs": [],
   "source": [
    "max(L),max(LRandom)"
   ]
  },
  {
   "cell_type": "code",
   "execution_count": null,
   "metadata": {
    "collapsed": true
   },
   "outputs": [],
   "source": [
    "zip(randomSamples,samples)"
   ]
  },
  {
   "cell_type": "code",
   "execution_count": null,
   "metadata": {
    "collapsed": true
   },
   "outputs": [],
   "source": [
    "Lambda((14544, 11249, 9499),theta,alpha), Lambda( (11763, 2528, 1879),theta,alpha)"
   ]
  },
  {
   "cell_type": "code",
   "execution_count": null,
   "metadata": {
    "collapsed": true
   },
   "outputs": [],
   "source": [
    "theta[:,list((14544, 11249, 9499))],theta[:,list( (11763, 2528, 1879))]"
   ]
  }
 ],
 "metadata": {
  "kernelspec": {
   "display_name": "Python 2",
   "language": "python",
   "name": "python2"
  },
  "language_info": {
   "codemirror_mode": {
    "name": "ipython",
    "version": 2
   },
   "file_extension": ".py",
   "mimetype": "text/x-python",
   "name": "python",
   "nbconvert_exporter": "python",
   "pygments_lexer": "ipython2",
   "version": "2.7.9"
  }
 },
 "nbformat": 4,
 "nbformat_minor": 0
}
